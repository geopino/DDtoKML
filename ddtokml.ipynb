{
 "cells": [
  {
   "cell_type": "markdown",
   "metadata": {},
   "source": [
    "<h1>Decimal Degrees to KML</h1>\n",
    "<h4> Generates KML from LAT LON in a a CSV file.</h4>\n",
    "<br />Define Variables\n",
    "      <ol>\n",
    "            <li>'myCSV' should be a CSV (.csv) file.</li>\n",
    "            <li>'myOrder' should be a list containing, at least, and 'Latitude' and a 'Longitude' field with values in decimal degrees (double or float).</li>\n",
    "            <li>'myKML' should be a KML (.kml) file.</li> \n",
    "      </ol>\n",
    "<br />Include any relevant attributes or HTML link tags in the CSV.\n",
    "<br />Adapted from the sample found [here] (https://developers.google.com/kml/articles/csvtokml)"
   ]
  },
  {
   "cell_type": "code",
   "execution_count": null,
   "metadata": {},
   "outputs": [],
   "source": [
    "import csv\n",
    "import xml.dom.minidom\n",
    "import sys\n",
    "\n",
    "myCSV = r'file.csv'\n",
    "\n",
    "myOrder = ['Latitude','Longitude', 'Name'] ### Must have columns named 'Latitude','Longitude'\n",
    "\n",
    "myKML = r'file.kml'"
   ]
  },
  {
   "cell_type": "code",
   "execution_count": null,
   "metadata": {},
   "outputs": [],
   "source": [
    "def createPlacemark(kmlDoc, row, order):\n",
    "  # This creates a <Placemark> element for a row of data.\n",
    "  # A row is a dict.\n",
    "  placemarkElement = kmlDoc.createElement('Placemark')\n",
    "  extElement = kmlDoc.createElement('ExtendedData')\n",
    "  placemarkElement.appendChild(extElement)\n",
    "  \n",
    "  # Loop through the columns and create a <Data> element for every field that has a value.\n",
    "  for key in order:\n",
    "    if row[key]:\n",
    "      dataElement = kmlDoc.createElement('Data')\n",
    "      dataElement.setAttribute('name', key)\n",
    "      valueElement = kmlDoc.createElement('value')\n",
    "      dataElement.appendChild(valueElement)\n",
    "      valueText = kmlDoc.createTextNode(row[key])\n",
    "      valueElement.appendChild(valueText)\n",
    "      extElement.appendChild(dataElement)\n",
    "  \n",
    "  pointElement = kmlDoc.createElement('Point')\n",
    "  placemarkElement.appendChild(pointElement)\n",
    "  coordinates = row['Longitude'] + \",\" + row['Latitude'] + \",0\"\n",
    "  coorElement = kmlDoc.createElement('coordinates')\n",
    "  coorElement.appendChild(kmlDoc.createTextNode(str(coordinates)))\n",
    "  pointElement.appendChild(coorElement)\n",
    "  return placemarkElement\n",
    "\n",
    "def createKML(csvReader, fileName, order):\n",
    "  # This constructs the KML document from the CSV file.\n",
    "  kmlDoc = xml.dom.minidom.Document()\n",
    "  \n",
    "  kmlElement = kmlDoc.createElementNS('http://earth.google.com/kml/2.2', 'kml')\n",
    "  kmlElement.setAttribute('xmlns', 'http://earth.google.com/kml/2.2')\n",
    "  kmlElement = kmlDoc.appendChild(kmlElement)\n",
    "  documentElement = kmlDoc.createElement('Document')\n",
    "  documentElement = kmlElement.appendChild(documentElement)\n",
    "\n",
    "  # Skip the header line.\n",
    "  next(csvReader)\n",
    "  \n",
    "  for row in csvReader:\n",
    "    placemarkElement = createPlacemark(kmlDoc, row, order)\n",
    "    documentElement.appendChild(placemarkElement)\n",
    "  kmlFile = open(fileName, 'wb')\n",
    "  kmlFile.write(kmlDoc.toprettyxml('  ', newl = '\\n', encoding = 'utf-8'))"
   ]
  },
  {
   "cell_type": "markdown",
   "metadata": {},
   "source": [
    "The reader opens up a .csv file defined by the variable, 'myCSV'.\n",
    "<br />It creates a KML file defined by the variable, 'myKML'.\n",
    "<br />If an argument was passed to the script, it splits the argument on a comma and uses the resulting list to specify an order for when columns get added. Otherwise, it defaults to the order defined."
   ]
  },
  {
   "cell_type": "code",
   "execution_count": null,
   "metadata": {},
   "outputs": [],
   "source": [
    "def main():\n",
    "  if len(sys.argv) >1: order = sys.argv[1].split(',')\n",
    "  else: order = myOrder\n",
    "  csvreader = csv.DictReader(open(myCSV))\n",
    "  kml = createKML(csvreader, myKML, order)\n",
    "\n",
    "if __name__ == '__main__':\n",
    "  main()"
   ]
  }
 ],
 "metadata": {
  "interpreter": {
   "hash": "4a785c7a5f12211b352db96a5162e48a7dea6bb97627a64d540c9a28011b908d"
  },
  "kernelspec": {
   "display_name": "Python 3.8.12 ('geopy38')",
   "language": "python",
   "name": "python3"
  },
  "language_info": {
   "codemirror_mode": {
    "name": "ipython",
    "version": 3
   },
   "file_extension": ".py",
   "mimetype": "text/x-python",
   "name": "python",
   "nbconvert_exporter": "python",
   "pygments_lexer": "ipython3",
   "version": "3.8.12"
  },
  "orig_nbformat": 4
 },
 "nbformat": 4,
 "nbformat_minor": 2
}
